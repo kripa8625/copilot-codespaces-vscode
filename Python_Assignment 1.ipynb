{
  "nbformat": 4,
  "nbformat_minor": 0,
  "metadata": {
    "colab": {
      "provenance": [],
      "authorship_tag": "ABX9TyOB86bdYv9PpB+T0tQzcoG9",
      "include_colab_link": true
    },
    "kernelspec": {
      "name": "python3",
      "display_name": "Python 3"
    },
    "language_info": {
      "name": "python"
    }
  },
  "cells": [
    {
      "cell_type": "markdown",
      "metadata": {
        "id": "view-in-github",
        "colab_type": "text"
      },
      "source": [
        "<a href=\"https://colab.research.google.com/github/kripa8625/copilot-codespaces-vscode/blob/main/Python_Assignment%201.ipynb\" target=\"_parent\"><img src=\"https://colab.research.google.com/assets/colab-badge.svg\" alt=\"Open In Colab\"/></a>"
      ]
    },
    {
      "cell_type": "code",
      "execution_count": null,
      "metadata": {
        "colab": {
          "base_uri": "https://localhost:8080/"
        },
        "id": "7yKxLXS4q1Wx",
        "outputId": "7ae8f577-cff6-463c-aba8-77be3c5c1a03"
      },
      "outputs": [
        {
          "output_type": "stream",
          "name": "stdout",
          "text": [
            "Merged String: abcpqr\n"
          ]
        }
      ],
      "source": [
        "def merge_strings(word1, word2):\n",
        "    return word1 + word2\n",
        "\n",
        "word1 = \"abc\"\n",
        "word2 = \"pqr\"\n",
        "result = merge_strings(word1, word2)\n",
        "print(\"Merged String:\",result)"
      ]
    },
    {
      "cell_type": "code",
      "source": [
        "def merge_strings(word1, word2):\n",
        "    merged = ''.join(a + b for a, b in zip(word1, word2))\n",
        "    return merged + word1[len(word2):] + word2[len(word1):]\n",
        "\n",
        "word1 = \"ab\"\n",
        "word2 = \"pqrs\"\n",
        "\n",
        "result = merge_strings(word1, word2)\n",
        "print(result)  # Output: \"apbqrs\"\n"
      ],
      "metadata": {
        "colab": {
          "base_uri": "https://localhost:8080/"
        },
        "id": "pdLMaEm9uU3f",
        "outputId": "f90091ec-a444-43d5-b214-8ab231db7f2e"
      },
      "execution_count": null,
      "outputs": [
        {
          "output_type": "stream",
          "name": "stdout",
          "text": [
            "apbqrs\n"
          ]
        }
      ]
    },
    {
      "cell_type": "code",
      "source": [
        "word1 = \"abcd\"\n",
        "word2 = \"pq\"\n",
        "\n",
        "merged_string = word1 + word2\n",
        "print(merged_string)\n"
      ],
      "metadata": {
        "colab": {
          "base_uri": "https://localhost:8080/"
        },
        "id": "zHBbZcJLu0mW",
        "outputId": "8646cc35-89bc-475f-809a-cb7aa6448fe5"
      },
      "execution_count": null,
      "outputs": [
        {
          "output_type": "stream",
          "name": "stdout",
          "text": [
            "abcdpq\n"
          ]
        }
      ]
    },
    {
      "cell_type": "code",
      "source": [
        "import math\n",
        "\n",
        "def gcd_of_strings(str1, str2):\n",
        "    if str1 + str2 != str2 + str1:\n",
        "        return \"\"\n",
        "    gcd_length = math.gcd(len(str1), len(str2))\n",
        "    return str1[:gcd_length]\n",
        "str1 = \"ABCABC\"\n",
        "str2 = \"ABC\"\n",
        "\n",
        "print(gcd_of_strings(str1, str2))\n"
      ],
      "metadata": {
        "colab": {
          "base_uri": "https://localhost:8080/"
        },
        "id": "Pal3HYfey-l8",
        "outputId": "9b6852bc-e37f-413b-9d0b-59d4699fc0eb"
      },
      "execution_count": null,
      "outputs": [
        {
          "output_type": "stream",
          "name": "stdout",
          "text": [
            "ABC\n"
          ]
        }
      ]
    },
    {
      "cell_type": "code",
      "source": [
        "import math\n",
        "\n",
        "def gcd_of_strings(str1, str2):\n",
        "    if str1 + str2 != str2 + str1:\n",
        "        return \"\"\n",
        "    gcd_length = math.gcd(len(str1), len(str2))\n",
        "    return str1[:gcd_length]\n",
        "str1 = \"ABABAB\"\n",
        "str2 = \"ABAB\"\n",
        "\n",
        "print(gcd_of_strings(str1, str2))\n"
      ],
      "metadata": {
        "colab": {
          "base_uri": "https://localhost:8080/"
        },
        "id": "1K71qoEwzPhB",
        "outputId": "fdee9863-c583-41e5-d4fe-4f0446fa32b4"
      },
      "execution_count": null,
      "outputs": [
        {
          "output_type": "stream",
          "name": "stdout",
          "text": [
            "AB\n"
          ]
        }
      ]
    },
    {
      "cell_type": "code",
      "source": [
        "import math\n",
        "\n",
        "def gcd_of_strings(str1, str2):\n",
        "  if str1 + str2 != str2 + str1:\n",
        "    return \"\"\n",
        "  gcd_length = math.gcd(len(str1), len(str2))\n",
        "  return str1[:gcd_length]\n",
        "str1 = \"LEET\"\n",
        "str2 = \"CODE\"\n",
        "\n",
        "print(gcd_of_strings(str1, str2))"
      ],
      "metadata": {
        "colab": {
          "base_uri": "https://localhost:8080/"
        },
        "id": "cFCl9Pr20VCJ",
        "outputId": "3eceb36d-948d-48da-c507-ace3d990acb3"
      },
      "execution_count": null,
      "outputs": [
        {
          "output_type": "stream",
          "name": "stdout",
          "text": [
            "\n"
          ]
        }
      ]
    }
  ]
}