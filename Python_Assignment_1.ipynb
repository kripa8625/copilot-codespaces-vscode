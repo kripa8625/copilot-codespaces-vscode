{
  "nbformat": 4,
  "nbformat_minor": 0,
  "metadata": {
    "colab": {
      "provenance": [],
      "include_colab_link": true
    },
    "kernelspec": {
      "name": "python3",
      "display_name": "Python 3"
    },
    "language_info": {
      "name": "python"
    }
  },
  "cells": [
    {
      "cell_type": "markdown",
      "metadata": {
        "id": "view-in-github",
        "colab_type": "text"
      },
      "source": [
        "<a href=\"https://colab.research.google.com/github/kripaa8/copilot-codespaces-vscode/blob/main/Python_Assignment_1.ipynb\" target=\"_parent\"><img src=\"https://colab.research.google.com/assets/colab-badge.svg\" alt=\"Open In Colab\"/></a>"
      ]
    },
    {
      "cell_type": "code",
      "source": [
        "def merge_strings(word1, word2):\n",
        "  merged = ''.join(a + b for a, b in zip(word1, word2))\n",
        "  return merged + word1[len(word2):] + word2[len(word1):]\n",
        "\n",
        "word1 = \"abc\"\n",
        "word2 = \"pqr\"\n",
        "result = merge_strings(word1, word2)\n",
        "print(\"Merged String:\",result)"
      ],
      "metadata": {
        "colab": {
          "base_uri": "https://localhost:8080/"
        },
        "id": "fiqwf3DR4vM9",
        "outputId": "e5267fb7-4c58-4258-cdce-ad3fea13686e"
      },
      "execution_count": null,
      "outputs": [
        {
          "output_type": "stream",
          "name": "stdout",
          "text": [
            "Merged String: apbqcr\n"
          ]
        }
      ]
    },
    {
      "cell_type": "code",
      "source": [
        "def merge_strings(word1, word2):\n",
        "    merged = ''.join(a + b for a, b in zip(word1, word2))\n",
        "    return merged + word1[len(word2):] + word2[len(word1):]\n",
        "\n",
        "word1 = \"ab\"\n",
        "word2 = \"pqrs\"\n",
        "\n",
        "result = merge_strings(word1, word2)\n",
        "print(result)"
      ],
      "metadata": {
        "colab": {
          "base_uri": "https://localhost:8080/"
        },
        "id": "pdLMaEm9uU3f",
        "outputId": "8eac0088-a7a3-4abe-f98c-eb175846a051"
      },
      "execution_count": null,
      "outputs": [
        {
          "output_type": "stream",
          "name": "stdout",
          "text": [
            "apbqrs\n"
          ]
        }
      ]
    },
    {
      "cell_type": "code",
      "source": [
        "def merge_strings(word1, word2):\n",
        "    merged = ''.join(a + b for a, b in zip(word1, word2)) + word1[len(word2):] + word2[len(word1):]\n",
        "    return merged\n",
        "\n",
        "word1 = \"abcd\"\n",
        "word2 = \"pq\"\n",
        "result = merge_strings(word1, word2)\n",
        "print(result)"
      ],
      "metadata": {
        "colab": {
          "base_uri": "https://localhost:8080/"
        },
        "id": "Skx24kIN5jAa",
        "outputId": "5dae5bef-4645-4ba5-c2d4-aefab1853757"
      },
      "execution_count": null,
      "outputs": [
        {
          "output_type": "stream",
          "name": "stdout",
          "text": [
            "apbqcd\n"
          ]
        }
      ]
    },
    {
      "cell_type": "code",
      "source": [
        "import math\n",
        "\n",
        "def gcd_of_strings(str1, str2):\n",
        "    if str1 + str2 != str2 + str1:\n",
        "        return \"\"\n",
        "    gcd_length = math.gcd(len(str1), len(str2))\n",
        "    return str1[:gcd_length]\n",
        "str1 = \"ABCABC\"\n",
        "str2 = \"ABC\"\n",
        "\n",
        "print(gcd_of_strings(str1, str2))\n"
      ],
      "metadata": {
        "colab": {
          "base_uri": "https://localhost:8080/"
        },
        "id": "Pal3HYfey-l8",
        "outputId": "8e0ccba3-0e04-4c75-b5c7-8f2e65663538"
      },
      "execution_count": null,
      "outputs": [
        {
          "output_type": "stream",
          "name": "stdout",
          "text": [
            "ABC\n"
          ]
        }
      ]
    },
    {
      "cell_type": "code",
      "source": [
        "import math\n",
        "\n",
        "def gcd_of_strings(str1, str2):\n",
        "    if str1 + str2 != str2 + str1:\n",
        "        return \"\"\n",
        "    gcd_length = math.gcd(len(str1), len(str2))\n",
        "    return str1[:gcd_length]\n",
        "str1 = \"ABABAB\"\n",
        "str2 = \"ABAB\"\n",
        "\n",
        "print(gcd_of_strings(str1, str2))\n"
      ],
      "metadata": {
        "colab": {
          "base_uri": "https://localhost:8080/"
        },
        "id": "1K71qoEwzPhB",
        "outputId": "c41c6cb8-6dcb-4f79-aeeb-819a221bdaf2"
      },
      "execution_count": null,
      "outputs": [
        {
          "output_type": "stream",
          "name": "stdout",
          "text": [
            "AB\n"
          ]
        }
      ]
    },
    {
      "cell_type": "code",
      "source": [
        "import math\n",
        "\n",
        "def gcd_of_strings(str1, str2):\n",
        "  if str1 + str2 != str2 + str1:\n",
        "    return \"\"\n",
        "  gcd_length = math.gcd(len(str1), len(str2))\n",
        "  return str1[:gcd_length]\n",
        "str1 = \"LEET\"\n",
        "str2 = \"CODE\"\n",
        "\n",
        "print(gcd_of_strings(str1, str2))"
      ],
      "metadata": {
        "colab": {
          "base_uri": "https://localhost:8080/"
        },
        "id": "cFCl9Pr20VCJ",
        "outputId": "8db588f8-0e5c-427f-fc28-414a2c980122"
      },
      "execution_count": null,
      "outputs": [
        {
          "output_type": "stream",
          "name": "stdout",
          "text": [
            "\n"
          ]
        }
      ]
    }
  ]
}